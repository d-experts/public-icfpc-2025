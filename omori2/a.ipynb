{
 "cells": [
  {
   "cell_type": "code",
   "execution_count": null,
   "id": "d0cc571b",
   "metadata": {},
   "outputs": [],
   "source": []
  },
  {
   "cell_type": "code",
   "execution_count": null,
   "id": "3bdcdd44",
   "metadata": {},
   "outputs": [],
   "source": [
    "import httpx\n",
    "c = httpx.AsyncClient()\n",
    "\n",
    "team_id = \"\"\n",
    "base_url = \"https://31pwr5t6ij.execute-api.eu-west-2.amazonaws.com\""
   ]
  },
  {
   "cell_type": "code",
   "execution_count": 2,
   "id": "6101518e",
   "metadata": {},
   "outputs": [],
   "source": [
    "problems = [\n",
    "    \"probatio\",\n",
    "    \"primus\",\n",
    "    \"secundus\",\n",
    "    \"tertius\",\n",
    "    \"quartus\",\n",
    "    \"quintus\"\n",
    "]"
   ]
  },
  {
   "cell_type": "code",
   "execution_count": null,
   "id": "b9f36413",
   "metadata": {},
   "outputs": [],
   "source": [
    "import httpx\n",
    "from pydantic import BaseModel\n",
    "\n",
    "c = httpx.Client()\n",
    "\n",
    "team_id = \"\"\n",
    "base_url = \"https://31pwr5t6ij.execute-api.eu-west-2.amazonaws.com\"\n",
    "\n",
    "problems = [\n",
    "    \"probatio\",\n",
    "    \"primus\",\n",
    "    \"secundus\",\n",
    "    \"tertius\",\n",
    "    \"quartus\",\n",
    "    \"quintus\"\n",
    "]\n",
    "\n",
    "def select(problemName: str):\n",
    "    return c.post(f\"{base_url}/select\", json={\n",
    "        \"id\": team_id,\n",
    "        \"problemName\": problemName\n",
    "    })\n",
    "\n",
    "def explore(plans: list[str]) -> list[list[int]]:\n",
    "    r = c.post(f\"{base_url}/explore\", json={\n",
    "        \"id\": team_id,\n",
    "        \"plans\": plans,\n",
    "    })\n",
    "    if r.status_code != 200:\n",
    "        print(r.text)\n",
    "        r.raise_for_status()\n",
    "    return (r).json()[\"results\"]\n",
    "\n",
    "class V(BaseModel):\n",
    "    room: int\n",
    "    door: int\n",
    "\n",
    "def guess(rooms: list[int], startingRoom: int, connections: list[tuple[V,V]]):\n",
    "    conn = {\n",
    "        \"id\": team_id,\n",
    "        \"map\": {\n",
    "            \"rooms\": rooms,\n",
    "            \"startingRoom\": startingRoom,\n",
    "            \"connections\": [\n",
    "                {\"from\": v1.model_dump_json(), \"to\": v2.model_dump_json()} for (v1,v2) in connections\n",
    "            ]\n",
    "        }\n",
    "    }\n",
    "    print(conn)\n",
    "    return c.post(f\"{base_url}/guess\", json=conn)\n"
   ]
  },
  {
   "cell_type": "code",
   "execution_count": 169,
   "metadata": {},
   "outputs": [
    {
     "name": "stdout",
     "output_type": "stream",
     "text": [
      "0032320120230310110110010230101223011012111131011221001210101010302303010\n",
      "{'0': 25, '3': 10, '2': 12, '1': 26}\n"
     ]
    }
   ],
   "source": [
    "import random\n",
    "\n",
    "\n",
    "select(\"aleph\")\n",
    "r = \"\".join([str(a) for a in explore([\"\".join([random.choice(\"012345\") for _ in range(12*6)])])[0]])\n",
    "count_map = {}\n",
    "for a in r:\n",
    "    if a not in count_map:\n",
    "        count_map[a] = 0\n",
    "    count_map[a] += 1\n",
    "\n",
    "print(\"\".join(r))\n",
    "print(count_map)"
   ]
  },
  {
   "cell_type": "code",
   "execution_count": null,
   "id": "437e1c15",
   "metadata": {},
   "outputs": [],
   "source": [
    "# Action\t0\t1\t2\t3\t4\t5\n",
    "# State\t\t\t\t\t\t\n",
    "# 0\t{2, 3}\t{0}\t{0, 1}\t{0, 1}\t{0, 1}\t{1, 2}\n",
    "# 1\t{1, 3}\t{0, 1}\t{0, 3}\t{0, 1}\t{1, 3}\t{0, 1}\n",
    "# 2\t{0}\t{2}\t{2}\t{0}\t{3}\t{3}\n",
    "# 3\t{1}\t{2}\t{1}\t{1}\t{2}\t{0}\n",
    "\n",
    "import z3\n"
   ]
  },
  {
   "cell_type": "code",
   "execution_count": 567,
   "id": "4a9344c5",
   "metadata": {},
   "outputs": [
    {
     "name": "stdout",
     "output_type": "stream",
     "text": [
      "532540305153144121345210104050023351100544244022330455503055315340523010014400004024051444204302255250001212\n",
      "0132221320021232032131312122332100010121313222101310000000022313121323131231312100012131222122310133200000323\n",
      "{'121313', '122212', '101332', '212231', '100010', '131210', '232032', '131231', '032131', '213131', '320321', '310133', '210131', '000223', '000000', '131312', '223321', '000022', '123131', '313121', '101310', '210001', '121223', '132313', '022313', '213200', '203213', '132002', '000002', '021232', '310000', '213231', '000101', '131213', '010121', '213122', '222101', '221320', '121312', '121323', '002123', '122310', '101213', '213132', '321000', '332100', '013222', '312313', '313123', '221013', '222122', '320000', '312132', '231013', '200000', '122332', '012131', '313222', '100012', '332000', '121000', '200212', '013100', '322213', '233210', '312122', '320021', '221223', '321313', '212320', '231312', '131222', '013320', '100000', '323131', '312221', '002231', '001213', '000003', '223101', '000323', '131212', '000032', '312100', '131000', '223131', '222132', '322210', '123203', '212233', '133200', '000121', '131322', '001012', '132221'} 95\n"
     ]
    }
   ],
   "source": [
    "import random\n",
    "\n",
    "\n",
    "select(problems[1])\n",
    "n=6\n",
    "plans = \"\".join([str(random.randint(0,5)) for _ in range(n * 18)])\n",
    "results = \"\".join([str(a) for a in explore([plans])[0]])\n",
    "print(plans)\n",
    "print(results)\n",
    "length = 6\n",
    "# 長さが５のsubstrings\n",
    "substrings = set()\n",
    "for i in range(len(results) - length + 1):\n",
    "    substrings.add(results[i:i+length])\n",
    "print(substrings, len(substrings))"
   ]
  },
  {
   "cell_type": "code",
   "execution_count": null,
   "id": "5710e4e7",
   "metadata": {},
   "outputs": [],
   "source": []
  },
  {
   "cell_type": "code",
   "execution_count": null,
   "id": "fc8c2da4",
   "metadata": {},
   "outputs": [],
   "source": []
  },
  {
   "cell_type": "code",
   "execution_count": 73,
   "id": "51ffb0a6",
   "metadata": {},
   "outputs": [],
   "source": [
    "class UnionFind:\n",
    "    def __init__(self, n):\n",
    "        self.parent = list(range(n))\n",
    "        self.rank = [0] * n\n",
    "\n",
    "    def find(self, x):\n",
    "        if self.parent[x] != x:\n",
    "            self.parent[x] = self.find(self.parent[x])\n",
    "        return self.parent[x]\n",
    "\n",
    "    def union(self, x, y):\n",
    "        rootX = self.find(x)\n",
    "        rootY = self.find(y)\n",
    "        if rootX != rootY:\n",
    "            if self.rank[rootX] > self.rank[rootY]:\n",
    "                self.parent[rootY] = rootX\n",
    "            elif self.rank[rootX] < self.rank[rootY]:\n",
    "                self.parent[rootX] = rootY\n",
    "            else:\n",
    "                self.parent[rootY] = rootX\n",
    "                self.rank[rootX] += 1\n",
    "    def roots(self):\n",
    "        return set(self.find(x) for x in range(len(self.parent)))\n",
    "def enumerate_string_of_length(n, alphabet):\n",
    "    if n == 0:\n",
    "        yield \"\"\n",
    "    else:\n",
    "        for s in enumerate_string_of_length(n - 1, alphabet):\n",
    "            for letter in alphabet:\n",
    "                yield s + letter"
   ]
  },
  {
   "cell_type": "code",
   "execution_count": null,
   "id": "22bae280",
   "metadata": {},
   "outputs": [],
   "source": [
    "select(problems[1])\n",
    "explore([\"1111111111\"])[0]"
   ]
  },
  {
   "cell_type": "code",
   "execution_count": 67,
   "id": "b784662c",
   "metadata": {},
   "outputs": [
    {
     "name": "stdout",
     "output_type": "stream",
     "text": [
      "[0, 1, 0, 0, 0, 1, 0, 2, 0, 1, 2, 2, 2, 0, 3, 2, 3, 3, 1, 3, 2, 0, 1, 3, 1, 0, 2, 3, 1, 3, 2, 3, 1, 0, 1, 1, 3, 2, 3, 1, 3, 1, 3, 1, 1, 1, 0, 1, 3, 2, 2, 2, 1, 2, 2, 1, 3, 1, 1, 2, 1, 2, 0, 0, 0, 3, 0, 1, 0, 2, 2, 2, 2, 2, 3, 3, 1, 3, 2, 2, 1, 0, 1, 0, 0, 1, 2, 1, 2, 1, 0, 3, 0, 1, 1, 3, 3, 1, 1, 0, 1, 2, 2, 2, 1, 2, 3, 1, 3, 3, 3, 2, 3, 2, 2, 2, 2, 3, 3, 3, 2, 1, 0, 3, 0, 1, 0, 1, 2, 2, 3, 2, 3, 0, 2, 0, 1, 0, 1, 0, 2, 0, 0, 0, 2, 2, 3, 1, 1, 0, 2, 1, 0, 0, 1, 3, 1, 3, 1, 1, 0, 0, 1, 0, 1, 0, 0, 1, 3, 2, 3, 3, 3, 0, 0, 1, 0, 3, 0, 3, 3, 3, 3, 0, 0, 1, 2, 1, 2, 1, 0, 3, 0, 2, 0, 1, 3, 1, 3, 2, 0, 0, 0, 3, 2, 3, 3, 2, 2, 2, 2, 0, 1, 0, 1, 0, 0]\n"
     ]
    },
    {
     "data": {
      "text/plain": [
       "{0: 56, 1: 58, 2: 53, 3: 50}"
      ]
     },
     "execution_count": 67,
     "metadata": {},
     "output_type": "execute_result"
    }
   ],
   "source": [
    "select(problems[2])\n",
    "result = explore([\"\".join([random.choice(\"012345\") for _ in range(12 * 18)])])[0]\n",
    "print(result)\n",
    "\n",
    "count_map = {}\n",
    "for r in result:\n",
    "    count_map[r] = count_map.get(r, 0) + 1\n",
    "count_map"
   ]
  },
  {
   "cell_type": "code",
   "execution_count": 139,
   "id": "4a2915df",
   "metadata": {},
   "outputs": [
    {
     "name": "stdout",
     "output_type": "stream",
     "text": [
      "sig 55000\n",
      "550000550003550004550001550003550003550002550004550005550002550005550003550002550000550001550001550004550000550002550001550004550001550004550004550004550001550001550005550003550003\n",
      "[0, 0, 1, 1, 3, 0, 0, 0, 1, 1, 2, 1, 0, 0, 1, 1, 3, 0, 3, 1, 0, 0, 3, 3, 3, 0, 0, 0, 3, 3, 2, 1, 0, 1, 2, 1, 0, 0, 1, 1, 3, 0, 3, 0, 2, 0, 0, 2, 1, 1, 3, 3, 2, 2, 3, 0, 2, 1, 1, 2, 2, 1, 0, 0, 3, 3, 0, 1, 3, 1, 2, 1, 1, 1, 3, 3, 2, 2, 2, 1, 0, 0, 3, 3, 2, 1, 0, 0, 2, 0, 0, 1, 1, 2, 1, 2, 0, 1, 1, 2, 1, 2, 2, 2, 3, 0, 0, 0, 2, 1, 1, 1, 1, 1, 0, 2, 1, 3, 0, 0, 0, 1, 1, 2, 1, 2, 2, 2, 3, 0, 0, 0, 0, 1, 1, 2, 1, 2, 2, 2, 3, 0, 0, 0, 2, 1, 0, 0, 2, 0, 2, 1, 0, 0, 2, 0, 0, 1, 1, 2, 1, 2, 0, 1, 1, 2, 1, 2, 3, 0, 2, 1, 1, 2, 2, 1, 0, 0, 2, 0, 3]\n",
      "sig_positions 30 [0, 6, 12, 18, 24, 30, 36, 42, 48, 54, 60, 66, 72, 78, 84, 90, 96, 102, 108, 114, 120, 126, 132, 138, 144, 150, 156, 162, 168, 174]\n",
      "{'21111', '21003', '30200', '21002', '11332', '22300', '01312', '02130', '00112', '31003', '00113', '30003', '01121', '30211', '21012'}\n",
      "15\n"
     ]
    }
   ],
   "source": [
    "select(\"he\")\n",
    "n = 30\n",
    "b = 6\n",
    "\n",
    "sig_len = 5\n",
    "sig = random.choice(list(enumerate_string_of_length(sig_len, \"012345\")))\n",
    "print(\"sig\", sig)\n",
    "\n",
    "cur = sig\n",
    "while len(cur) < n * b:\n",
    "    random_string = \"\".join([random.choice(\"012345\") for _ in range(1)])\n",
    "    cur += random_string + sig\n",
    "if len(cur) > n * b:\n",
    "    cur = cur[:n * b]\n",
    "print(cur)\n",
    "\n",
    "result = explore([cur])[0]\n",
    "print(result)\n",
    "\n",
    "sig_results = []\n",
    "sig_positions = [i for i in range(len(cur)) if cur[i:i+sig_len] == sig]\n",
    "\n",
    "print(\"sig_positions\", len(sig_positions), sig_positions)\n",
    "for sig_pos in sig_positions:\n",
    "    sig_result = \"\".join([str(a) for a in result[sig_pos: sig_pos + sig_len]])\n",
    "    sig_results.append(sig_result)\n",
    "\n",
    "print(set(sig_results))\n",
    "print(len(set(sig_results)))"
   ]
  },
  {
   "cell_type": "code",
   "execution_count": 187,
   "id": "0879f307",
   "metadata": {},
   "outputs": [
    {
     "name": "stdout",
     "output_type": "stream",
     "text": [
      "done\n",
      "4\n"
     ]
    }
   ],
   "source": [
    "uf = UnionFind(len(results) - 1)\n",
    "ss_len = 3\n",
    "ss_t = list(enumerate_string_of_length(ss_len, \"012345\"))\n",
    "for s in ss_t:\n",
    "    positions = [i for i in range(len(results) - ss_len) if results[i:i+ss_len] == s]\n",
    "    if len(positions) >= 2:\n",
    "        corresponding_results = [results[i: i+ss_len] for i in positions]\n",
    "        if len(set(corresponding_results)) == 1:\n",
    "            for p1_start, p2_start in zip(positions, positions[1:]):\n",
    "                for i in range(ss_len):\n",
    "                    uf.union(p1_start + i, p2_start + i)\n",
    "print(\"done\")\n",
    "print(len(uf.roots()))"
   ]
  },
  {
   "cell_type": "code",
   "execution_count": null,
   "id": "6ad6f479",
   "metadata": {},
   "outputs": [
    {
     "name": "stdout",
     "output_type": "stream",
     "text": [
      "--- Attempt #1 ---\n",
      "100000\n",
      "--- Attempt #2 ---\n",
      "100000\n",
      "--- Attempt #3 ---\n",
      "100000\n",
      "--- Attempt #4 ---\n",
      "100000\n",
      "--- Attempt #5 ---\n",
      "100000\n",
      "--- Attempt #6 ---\n",
      "100000\n",
      "--- Attempt #7 ---\n",
      "100000\n",
      "--- Attempt #8 ---\n"
     ]
    },
    {
     "ename": "KeyboardInterrupt",
     "evalue": "",
     "output_type": "error",
     "traceback": [
      "\u001b[31m---------------------------------------------------------------------------\u001b[39m",
      "\u001b[31mKeyboardInterrupt\u001b[39m                         Traceback (most recent call last)",
      "\u001b[36mCell\u001b[39m\u001b[36m \u001b[39m\u001b[32mIn[59]\u001b[39m\u001b[32m, line 123\u001b[39m\n\u001b[32m    121\u001b[39m attempts += \u001b[32m1\u001b[39m\n\u001b[32m    122\u001b[39m \u001b[38;5;28mprint\u001b[39m(\u001b[33mf\u001b[39m\u001b[33m\"\u001b[39m\u001b[33m--- Attempt #\u001b[39m\u001b[38;5;132;01m{\u001b[39;00mattempts\u001b[38;5;132;01m}\u001b[39;00m\u001b[33m ---\u001b[39m\u001b[33m\"\u001b[39m)\n\u001b[32m--> \u001b[39m\u001b[32m123\u001b[39m \u001b[43mselect\u001b[49m\u001b[43m(\u001b[49m\u001b[43mproblems\u001b[49m\u001b[43m[\u001b[49m\u001b[32;43m0\u001b[39;49m\u001b[43m]\u001b[49m\u001b[43m)\u001b[49m\n\u001b[32m    124\u001b[39m plans = \u001b[33m\"\u001b[39m\u001b[33m\"\u001b[39m.join([\u001b[38;5;28mstr\u001b[39m(random.randint(\u001b[32m0\u001b[39m,\u001b[32m5\u001b[39m)) \u001b[38;5;28;01mfor\u001b[39;00m _ \u001b[38;5;129;01min\u001b[39;00m \u001b[38;5;28mrange\u001b[39m(\u001b[32m54\u001b[39m)])\n\u001b[32m    125\u001b[39m result = explore([plans])[\u001b[32m0\u001b[39m]\n",
      "\u001b[36mCell\u001b[39m\u001b[36m \u001b[39m\u001b[32mIn[57]\u001b[39m\u001b[32m, line 20\u001b[39m, in \u001b[36mselect\u001b[39m\u001b[34m(problemName)\u001b[39m\n\u001b[32m     19\u001b[39m \u001b[38;5;28;01mdef\u001b[39;00m\u001b[38;5;250m \u001b[39m\u001b[34mselect\u001b[39m(problemName: \u001b[38;5;28mstr\u001b[39m):\n\u001b[32m---> \u001b[39m\u001b[32m20\u001b[39m     \u001b[38;5;28;01mreturn\u001b[39;00m \u001b[43mc\u001b[49m\u001b[43m.\u001b[49m\u001b[43mpost\u001b[49m\u001b[43m(\u001b[49m\u001b[33;43mf\u001b[39;49m\u001b[33;43m\"\u001b[39;49m\u001b[38;5;132;43;01m{\u001b[39;49;00m\u001b[43mbase_url\u001b[49m\u001b[38;5;132;43;01m}\u001b[39;49;00m\u001b[33;43m/select\u001b[39;49m\u001b[33;43m\"\u001b[39;49m\u001b[43m,\u001b[49m\u001b[43m \u001b[49m\u001b[43mjson\u001b[49m\u001b[43m=\u001b[49m\u001b[43m{\u001b[49m\n\u001b[32m     21\u001b[39m \u001b[43m        \u001b[49m\u001b[33;43m\"\u001b[39;49m\u001b[33;43mid\u001b[39;49m\u001b[33;43m\"\u001b[39;49m\u001b[43m:\u001b[49m\u001b[43m \u001b[49m\u001b[43mteam_id\u001b[49m\u001b[43m,\u001b[49m\n\u001b[32m     22\u001b[39m \u001b[43m        \u001b[49m\u001b[33;43m\"\u001b[39;49m\u001b[33;43mproblemName\u001b[39;49m\u001b[33;43m\"\u001b[39;49m\u001b[43m:\u001b[49m\u001b[43m \u001b[49m\u001b[43mproblemName\u001b[49m\n\u001b[32m     23\u001b[39m \u001b[43m    \u001b[49m\u001b[43m}\u001b[49m\u001b[43m)\u001b[49m\n",
      "\u001b[36mFile \u001b[39m\u001b[32m~/repos/icfpc/.venv/lib/python3.11/site-packages/httpx/_client.py:1144\u001b[39m, in \u001b[36mClient.post\u001b[39m\u001b[34m(self, url, content, data, files, json, params, headers, cookies, auth, follow_redirects, timeout, extensions)\u001b[39m\n\u001b[32m   1123\u001b[39m \u001b[38;5;28;01mdef\u001b[39;00m\u001b[38;5;250m \u001b[39m\u001b[34mpost\u001b[39m(\n\u001b[32m   1124\u001b[39m     \u001b[38;5;28mself\u001b[39m,\n\u001b[32m   1125\u001b[39m     url: URL | \u001b[38;5;28mstr\u001b[39m,\n\u001b[32m   (...)\u001b[39m\u001b[32m   1137\u001b[39m     extensions: RequestExtensions | \u001b[38;5;28;01mNone\u001b[39;00m = \u001b[38;5;28;01mNone\u001b[39;00m,\n\u001b[32m   1138\u001b[39m ) -> Response:\n\u001b[32m   1139\u001b[39m \u001b[38;5;250m    \u001b[39m\u001b[33;03m\"\"\"\u001b[39;00m\n\u001b[32m   1140\u001b[39m \u001b[33;03m    Send a `POST` request.\u001b[39;00m\n\u001b[32m   1141\u001b[39m \n\u001b[32m   1142\u001b[39m \u001b[33;03m    **Parameters**: See `httpx.request`.\u001b[39;00m\n\u001b[32m   1143\u001b[39m \u001b[33;03m    \"\"\"\u001b[39;00m\n\u001b[32m-> \u001b[39m\u001b[32m1144\u001b[39m     \u001b[38;5;28;01mreturn\u001b[39;00m \u001b[38;5;28;43mself\u001b[39;49m\u001b[43m.\u001b[49m\u001b[43mrequest\u001b[49m\u001b[43m(\u001b[49m\n\u001b[32m   1145\u001b[39m \u001b[43m        \u001b[49m\u001b[33;43m\"\u001b[39;49m\u001b[33;43mPOST\u001b[39;49m\u001b[33;43m\"\u001b[39;49m\u001b[43m,\u001b[49m\n\u001b[32m   1146\u001b[39m \u001b[43m        \u001b[49m\u001b[43murl\u001b[49m\u001b[43m,\u001b[49m\n\u001b[32m   1147\u001b[39m \u001b[43m        \u001b[49m\u001b[43mcontent\u001b[49m\u001b[43m=\u001b[49m\u001b[43mcontent\u001b[49m\u001b[43m,\u001b[49m\n\u001b[32m   1148\u001b[39m \u001b[43m        \u001b[49m\u001b[43mdata\u001b[49m\u001b[43m=\u001b[49m\u001b[43mdata\u001b[49m\u001b[43m,\u001b[49m\n\u001b[32m   1149\u001b[39m \u001b[43m        \u001b[49m\u001b[43mfiles\u001b[49m\u001b[43m=\u001b[49m\u001b[43mfiles\u001b[49m\u001b[43m,\u001b[49m\n\u001b[32m   1150\u001b[39m \u001b[43m        \u001b[49m\u001b[43mjson\u001b[49m\u001b[43m=\u001b[49m\u001b[43mjson\u001b[49m\u001b[43m,\u001b[49m\n\u001b[32m   1151\u001b[39m \u001b[43m        \u001b[49m\u001b[43mparams\u001b[49m\u001b[43m=\u001b[49m\u001b[43mparams\u001b[49m\u001b[43m,\u001b[49m\n\u001b[32m   1152\u001b[39m \u001b[43m        \u001b[49m\u001b[43mheaders\u001b[49m\u001b[43m=\u001b[49m\u001b[43mheaders\u001b[49m\u001b[43m,\u001b[49m\n\u001b[32m   1153\u001b[39m \u001b[43m        \u001b[49m\u001b[43mcookies\u001b[49m\u001b[43m=\u001b[49m\u001b[43mcookies\u001b[49m\u001b[43m,\u001b[49m\n\u001b[32m   1154\u001b[39m \u001b[43m        \u001b[49m\u001b[43mauth\u001b[49m\u001b[43m=\u001b[49m\u001b[43mauth\u001b[49m\u001b[43m,\u001b[49m\n\u001b[32m   1155\u001b[39m \u001b[43m        \u001b[49m\u001b[43mfollow_redirects\u001b[49m\u001b[43m=\u001b[49m\u001b[43mfollow_redirects\u001b[49m\u001b[43m,\u001b[49m\n\u001b[32m   1156\u001b[39m \u001b[43m        \u001b[49m\u001b[43mtimeout\u001b[49m\u001b[43m=\u001b[49m\u001b[43mtimeout\u001b[49m\u001b[43m,\u001b[49m\n\u001b[32m   1157\u001b[39m \u001b[43m        \u001b[49m\u001b[43mextensions\u001b[49m\u001b[43m=\u001b[49m\u001b[43mextensions\u001b[49m\u001b[43m,\u001b[49m\n\u001b[32m   1158\u001b[39m \u001b[43m    \u001b[49m\u001b[43m)\u001b[49m\n",
      "\u001b[36mFile \u001b[39m\u001b[32m~/repos/icfpc/.venv/lib/python3.11/site-packages/httpx/_client.py:825\u001b[39m, in \u001b[36mClient.request\u001b[39m\u001b[34m(self, method, url, content, data, files, json, params, headers, cookies, auth, follow_redirects, timeout, extensions)\u001b[39m\n\u001b[32m    810\u001b[39m     warnings.warn(message, \u001b[38;5;167;01mDeprecationWarning\u001b[39;00m, stacklevel=\u001b[32m2\u001b[39m)\n\u001b[32m    812\u001b[39m request = \u001b[38;5;28mself\u001b[39m.build_request(\n\u001b[32m    813\u001b[39m     method=method,\n\u001b[32m    814\u001b[39m     url=url,\n\u001b[32m   (...)\u001b[39m\u001b[32m    823\u001b[39m     extensions=extensions,\n\u001b[32m    824\u001b[39m )\n\u001b[32m--> \u001b[39m\u001b[32m825\u001b[39m \u001b[38;5;28;01mreturn\u001b[39;00m \u001b[38;5;28;43mself\u001b[39;49m\u001b[43m.\u001b[49m\u001b[43msend\u001b[49m\u001b[43m(\u001b[49m\u001b[43mrequest\u001b[49m\u001b[43m,\u001b[49m\u001b[43m \u001b[49m\u001b[43mauth\u001b[49m\u001b[43m=\u001b[49m\u001b[43mauth\u001b[49m\u001b[43m,\u001b[49m\u001b[43m \u001b[49m\u001b[43mfollow_redirects\u001b[49m\u001b[43m=\u001b[49m\u001b[43mfollow_redirects\u001b[49m\u001b[43m)\u001b[49m\n",
      "\u001b[36mFile \u001b[39m\u001b[32m~/repos/icfpc/.venv/lib/python3.11/site-packages/httpx/_client.py:914\u001b[39m, in \u001b[36mClient.send\u001b[39m\u001b[34m(self, request, stream, auth, follow_redirects)\u001b[39m\n\u001b[32m    910\u001b[39m \u001b[38;5;28mself\u001b[39m._set_timeout(request)\n\u001b[32m    912\u001b[39m auth = \u001b[38;5;28mself\u001b[39m._build_request_auth(request, auth)\n\u001b[32m--> \u001b[39m\u001b[32m914\u001b[39m response = \u001b[38;5;28;43mself\u001b[39;49m\u001b[43m.\u001b[49m\u001b[43m_send_handling_auth\u001b[49m\u001b[43m(\u001b[49m\n\u001b[32m    915\u001b[39m \u001b[43m    \u001b[49m\u001b[43mrequest\u001b[49m\u001b[43m,\u001b[49m\n\u001b[32m    916\u001b[39m \u001b[43m    \u001b[49m\u001b[43mauth\u001b[49m\u001b[43m=\u001b[49m\u001b[43mauth\u001b[49m\u001b[43m,\u001b[49m\n\u001b[32m    917\u001b[39m \u001b[43m    \u001b[49m\u001b[43mfollow_redirects\u001b[49m\u001b[43m=\u001b[49m\u001b[43mfollow_redirects\u001b[49m\u001b[43m,\u001b[49m\n\u001b[32m    918\u001b[39m \u001b[43m    \u001b[49m\u001b[43mhistory\u001b[49m\u001b[43m=\u001b[49m\u001b[43m[\u001b[49m\u001b[43m]\u001b[49m\u001b[43m,\u001b[49m\n\u001b[32m    919\u001b[39m \u001b[43m\u001b[49m\u001b[43m)\u001b[49m\n\u001b[32m    920\u001b[39m \u001b[38;5;28;01mtry\u001b[39;00m:\n\u001b[32m    921\u001b[39m     \u001b[38;5;28;01mif\u001b[39;00m \u001b[38;5;129;01mnot\u001b[39;00m stream:\n",
      "\u001b[36mFile \u001b[39m\u001b[32m~/repos/icfpc/.venv/lib/python3.11/site-packages/httpx/_client.py:942\u001b[39m, in \u001b[36mClient._send_handling_auth\u001b[39m\u001b[34m(self, request, auth, follow_redirects, history)\u001b[39m\n\u001b[32m    939\u001b[39m request = \u001b[38;5;28mnext\u001b[39m(auth_flow)\n\u001b[32m    941\u001b[39m \u001b[38;5;28;01mwhile\u001b[39;00m \u001b[38;5;28;01mTrue\u001b[39;00m:\n\u001b[32m--> \u001b[39m\u001b[32m942\u001b[39m     response = \u001b[38;5;28;43mself\u001b[39;49m\u001b[43m.\u001b[49m\u001b[43m_send_handling_redirects\u001b[49m\u001b[43m(\u001b[49m\n\u001b[32m    943\u001b[39m \u001b[43m        \u001b[49m\u001b[43mrequest\u001b[49m\u001b[43m,\u001b[49m\n\u001b[32m    944\u001b[39m \u001b[43m        \u001b[49m\u001b[43mfollow_redirects\u001b[49m\u001b[43m=\u001b[49m\u001b[43mfollow_redirects\u001b[49m\u001b[43m,\u001b[49m\n\u001b[32m    945\u001b[39m \u001b[43m        \u001b[49m\u001b[43mhistory\u001b[49m\u001b[43m=\u001b[49m\u001b[43mhistory\u001b[49m\u001b[43m,\u001b[49m\n\u001b[32m    946\u001b[39m \u001b[43m    \u001b[49m\u001b[43m)\u001b[49m\n\u001b[32m    947\u001b[39m     \u001b[38;5;28;01mtry\u001b[39;00m:\n\u001b[32m    948\u001b[39m         \u001b[38;5;28;01mtry\u001b[39;00m:\n",
      "\u001b[36mFile \u001b[39m\u001b[32m~/repos/icfpc/.venv/lib/python3.11/site-packages/httpx/_client.py:979\u001b[39m, in \u001b[36mClient._send_handling_redirects\u001b[39m\u001b[34m(self, request, follow_redirects, history)\u001b[39m\n\u001b[32m    976\u001b[39m \u001b[38;5;28;01mfor\u001b[39;00m hook \u001b[38;5;129;01min\u001b[39;00m \u001b[38;5;28mself\u001b[39m._event_hooks[\u001b[33m\"\u001b[39m\u001b[33mrequest\u001b[39m\u001b[33m\"\u001b[39m]:\n\u001b[32m    977\u001b[39m     hook(request)\n\u001b[32m--> \u001b[39m\u001b[32m979\u001b[39m response = \u001b[38;5;28;43mself\u001b[39;49m\u001b[43m.\u001b[49m\u001b[43m_send_single_request\u001b[49m\u001b[43m(\u001b[49m\u001b[43mrequest\u001b[49m\u001b[43m)\u001b[49m\n\u001b[32m    980\u001b[39m \u001b[38;5;28;01mtry\u001b[39;00m:\n\u001b[32m    981\u001b[39m     \u001b[38;5;28;01mfor\u001b[39;00m hook \u001b[38;5;129;01min\u001b[39;00m \u001b[38;5;28mself\u001b[39m._event_hooks[\u001b[33m\"\u001b[39m\u001b[33mresponse\u001b[39m\u001b[33m\"\u001b[39m]:\n",
      "\u001b[36mFile \u001b[39m\u001b[32m~/repos/icfpc/.venv/lib/python3.11/site-packages/httpx/_client.py:1014\u001b[39m, in \u001b[36mClient._send_single_request\u001b[39m\u001b[34m(self, request)\u001b[39m\n\u001b[32m   1009\u001b[39m     \u001b[38;5;28;01mraise\u001b[39;00m \u001b[38;5;167;01mRuntimeError\u001b[39;00m(\n\u001b[32m   1010\u001b[39m         \u001b[33m\"\u001b[39m\u001b[33mAttempted to send an async request with a sync Client instance.\u001b[39m\u001b[33m\"\u001b[39m\n\u001b[32m   1011\u001b[39m     )\n\u001b[32m   1013\u001b[39m \u001b[38;5;28;01mwith\u001b[39;00m request_context(request=request):\n\u001b[32m-> \u001b[39m\u001b[32m1014\u001b[39m     response = \u001b[43mtransport\u001b[49m\u001b[43m.\u001b[49m\u001b[43mhandle_request\u001b[49m\u001b[43m(\u001b[49m\u001b[43mrequest\u001b[49m\u001b[43m)\u001b[49m\n\u001b[32m   1016\u001b[39m \u001b[38;5;28;01massert\u001b[39;00m \u001b[38;5;28misinstance\u001b[39m(response.stream, SyncByteStream)\n\u001b[32m   1018\u001b[39m response.request = request\n",
      "\u001b[36mFile \u001b[39m\u001b[32m~/repos/icfpc/.venv/lib/python3.11/site-packages/httpx/_transports/default.py:250\u001b[39m, in \u001b[36mHTTPTransport.handle_request\u001b[39m\u001b[34m(self, request)\u001b[39m\n\u001b[32m    237\u001b[39m req = httpcore.Request(\n\u001b[32m    238\u001b[39m     method=request.method,\n\u001b[32m    239\u001b[39m     url=httpcore.URL(\n\u001b[32m   (...)\u001b[39m\u001b[32m    247\u001b[39m     extensions=request.extensions,\n\u001b[32m    248\u001b[39m )\n\u001b[32m    249\u001b[39m \u001b[38;5;28;01mwith\u001b[39;00m map_httpcore_exceptions():\n\u001b[32m--> \u001b[39m\u001b[32m250\u001b[39m     resp = \u001b[38;5;28;43mself\u001b[39;49m\u001b[43m.\u001b[49m\u001b[43m_pool\u001b[49m\u001b[43m.\u001b[49m\u001b[43mhandle_request\u001b[49m\u001b[43m(\u001b[49m\u001b[43mreq\u001b[49m\u001b[43m)\u001b[49m\n\u001b[32m    252\u001b[39m \u001b[38;5;28;01massert\u001b[39;00m \u001b[38;5;28misinstance\u001b[39m(resp.stream, typing.Iterable)\n\u001b[32m    254\u001b[39m \u001b[38;5;28;01mreturn\u001b[39;00m Response(\n\u001b[32m    255\u001b[39m     status_code=resp.status,\n\u001b[32m    256\u001b[39m     headers=resp.headers,\n\u001b[32m    257\u001b[39m     stream=ResponseStream(resp.stream),\n\u001b[32m    258\u001b[39m     extensions=resp.extensions,\n\u001b[32m    259\u001b[39m )\n",
      "\u001b[36mFile \u001b[39m\u001b[32m~/repos/icfpc/.venv/lib/python3.11/site-packages/httpcore/_sync/connection_pool.py:256\u001b[39m, in \u001b[36mConnectionPool.handle_request\u001b[39m\u001b[34m(self, request)\u001b[39m\n\u001b[32m    253\u001b[39m         closing = \u001b[38;5;28mself\u001b[39m._assign_requests_to_connections()\n\u001b[32m    255\u001b[39m     \u001b[38;5;28mself\u001b[39m._close_connections(closing)\n\u001b[32m--> \u001b[39m\u001b[32m256\u001b[39m     \u001b[38;5;28;01mraise\u001b[39;00m exc \u001b[38;5;28;01mfrom\u001b[39;00m\u001b[38;5;250m \u001b[39m\u001b[38;5;28;01mNone\u001b[39;00m\n\u001b[32m    258\u001b[39m \u001b[38;5;66;03m# Return the response. Note that in this case we still have to manage\u001b[39;00m\n\u001b[32m    259\u001b[39m \u001b[38;5;66;03m# the point at which the response is closed.\u001b[39;00m\n\u001b[32m    260\u001b[39m \u001b[38;5;28;01massert\u001b[39;00m \u001b[38;5;28misinstance\u001b[39m(response.stream, typing.Iterable)\n",
      "\u001b[36mFile \u001b[39m\u001b[32m~/repos/icfpc/.venv/lib/python3.11/site-packages/httpcore/_sync/connection_pool.py:236\u001b[39m, in \u001b[36mConnectionPool.handle_request\u001b[39m\u001b[34m(self, request)\u001b[39m\n\u001b[32m    232\u001b[39m connection = pool_request.wait_for_connection(timeout=timeout)\n\u001b[32m    234\u001b[39m \u001b[38;5;28;01mtry\u001b[39;00m:\n\u001b[32m    235\u001b[39m     \u001b[38;5;66;03m# Send the request on the assigned connection.\u001b[39;00m\n\u001b[32m--> \u001b[39m\u001b[32m236\u001b[39m     response = \u001b[43mconnection\u001b[49m\u001b[43m.\u001b[49m\u001b[43mhandle_request\u001b[49m\u001b[43m(\u001b[49m\n\u001b[32m    237\u001b[39m \u001b[43m        \u001b[49m\u001b[43mpool_request\u001b[49m\u001b[43m.\u001b[49m\u001b[43mrequest\u001b[49m\n\u001b[32m    238\u001b[39m \u001b[43m    \u001b[49m\u001b[43m)\u001b[49m\n\u001b[32m    239\u001b[39m \u001b[38;5;28;01mexcept\u001b[39;00m ConnectionNotAvailable:\n\u001b[32m    240\u001b[39m     \u001b[38;5;66;03m# In some cases a connection may initially be available to\u001b[39;00m\n\u001b[32m    241\u001b[39m     \u001b[38;5;66;03m# handle a request, but then become unavailable.\u001b[39;00m\n\u001b[32m    242\u001b[39m     \u001b[38;5;66;03m#\u001b[39;00m\n\u001b[32m    243\u001b[39m     \u001b[38;5;66;03m# In this case we clear the connection and try again.\u001b[39;00m\n\u001b[32m    244\u001b[39m     pool_request.clear_connection()\n",
      "\u001b[36mFile \u001b[39m\u001b[32m~/repos/icfpc/.venv/lib/python3.11/site-packages/httpcore/_sync/connection.py:103\u001b[39m, in \u001b[36mHTTPConnection.handle_request\u001b[39m\u001b[34m(self, request)\u001b[39m\n\u001b[32m    100\u001b[39m     \u001b[38;5;28mself\u001b[39m._connect_failed = \u001b[38;5;28;01mTrue\u001b[39;00m\n\u001b[32m    101\u001b[39m     \u001b[38;5;28;01mraise\u001b[39;00m exc\n\u001b[32m--> \u001b[39m\u001b[32m103\u001b[39m \u001b[38;5;28;01mreturn\u001b[39;00m \u001b[38;5;28;43mself\u001b[39;49m\u001b[43m.\u001b[49m\u001b[43m_connection\u001b[49m\u001b[43m.\u001b[49m\u001b[43mhandle_request\u001b[49m\u001b[43m(\u001b[49m\u001b[43mrequest\u001b[49m\u001b[43m)\u001b[49m\n",
      "\u001b[36mFile \u001b[39m\u001b[32m~/repos/icfpc/.venv/lib/python3.11/site-packages/httpcore/_sync/http11.py:136\u001b[39m, in \u001b[36mHTTP11Connection.handle_request\u001b[39m\u001b[34m(self, request)\u001b[39m\n\u001b[32m    134\u001b[39m     \u001b[38;5;28;01mwith\u001b[39;00m Trace(\u001b[33m\"\u001b[39m\u001b[33mresponse_closed\u001b[39m\u001b[33m\"\u001b[39m, logger, request) \u001b[38;5;28;01mas\u001b[39;00m trace:\n\u001b[32m    135\u001b[39m         \u001b[38;5;28mself\u001b[39m._response_closed()\n\u001b[32m--> \u001b[39m\u001b[32m136\u001b[39m \u001b[38;5;28;01mraise\u001b[39;00m exc\n",
      "\u001b[36mFile \u001b[39m\u001b[32m~/repos/icfpc/.venv/lib/python3.11/site-packages/httpcore/_sync/http11.py:106\u001b[39m, in \u001b[36mHTTP11Connection.handle_request\u001b[39m\u001b[34m(self, request)\u001b[39m\n\u001b[32m     95\u001b[39m     \u001b[38;5;28;01mpass\u001b[39;00m\n\u001b[32m     97\u001b[39m \u001b[38;5;28;01mwith\u001b[39;00m Trace(\n\u001b[32m     98\u001b[39m     \u001b[33m\"\u001b[39m\u001b[33mreceive_response_headers\u001b[39m\u001b[33m\"\u001b[39m, logger, request, kwargs\n\u001b[32m     99\u001b[39m ) \u001b[38;5;28;01mas\u001b[39;00m trace:\n\u001b[32m    100\u001b[39m     (\n\u001b[32m    101\u001b[39m         http_version,\n\u001b[32m    102\u001b[39m         status,\n\u001b[32m    103\u001b[39m         reason_phrase,\n\u001b[32m    104\u001b[39m         headers,\n\u001b[32m    105\u001b[39m         trailing_data,\n\u001b[32m--> \u001b[39m\u001b[32m106\u001b[39m     ) = \u001b[38;5;28;43mself\u001b[39;49m\u001b[43m.\u001b[49m\u001b[43m_receive_response_headers\u001b[49m\u001b[43m(\u001b[49m\u001b[43m*\u001b[49m\u001b[43m*\u001b[49m\u001b[43mkwargs\u001b[49m\u001b[43m)\u001b[49m\n\u001b[32m    107\u001b[39m     trace.return_value = (\n\u001b[32m    108\u001b[39m         http_version,\n\u001b[32m    109\u001b[39m         status,\n\u001b[32m    110\u001b[39m         reason_phrase,\n\u001b[32m    111\u001b[39m         headers,\n\u001b[32m    112\u001b[39m     )\n\u001b[32m    114\u001b[39m network_stream = \u001b[38;5;28mself\u001b[39m._network_stream\n",
      "\u001b[36mFile \u001b[39m\u001b[32m~/repos/icfpc/.venv/lib/python3.11/site-packages/httpcore/_sync/http11.py:177\u001b[39m, in \u001b[36mHTTP11Connection._receive_response_headers\u001b[39m\u001b[34m(self, request)\u001b[39m\n\u001b[32m    174\u001b[39m timeout = timeouts.get(\u001b[33m\"\u001b[39m\u001b[33mread\u001b[39m\u001b[33m\"\u001b[39m, \u001b[38;5;28;01mNone\u001b[39;00m)\n\u001b[32m    176\u001b[39m \u001b[38;5;28;01mwhile\u001b[39;00m \u001b[38;5;28;01mTrue\u001b[39;00m:\n\u001b[32m--> \u001b[39m\u001b[32m177\u001b[39m     event = \u001b[38;5;28;43mself\u001b[39;49m\u001b[43m.\u001b[49m\u001b[43m_receive_event\u001b[49m\u001b[43m(\u001b[49m\u001b[43mtimeout\u001b[49m\u001b[43m=\u001b[49m\u001b[43mtimeout\u001b[49m\u001b[43m)\u001b[49m\n\u001b[32m    178\u001b[39m     \u001b[38;5;28;01mif\u001b[39;00m \u001b[38;5;28misinstance\u001b[39m(event, h11.Response):\n\u001b[32m    179\u001b[39m         \u001b[38;5;28;01mbreak\u001b[39;00m\n",
      "\u001b[36mFile \u001b[39m\u001b[32m~/repos/icfpc/.venv/lib/python3.11/site-packages/httpcore/_sync/http11.py:217\u001b[39m, in \u001b[36mHTTP11Connection._receive_event\u001b[39m\u001b[34m(self, timeout)\u001b[39m\n\u001b[32m    214\u001b[39m     event = \u001b[38;5;28mself\u001b[39m._h11_state.next_event()\n\u001b[32m    216\u001b[39m \u001b[38;5;28;01mif\u001b[39;00m event \u001b[38;5;129;01mis\u001b[39;00m h11.NEED_DATA:\n\u001b[32m--> \u001b[39m\u001b[32m217\u001b[39m     data = \u001b[38;5;28;43mself\u001b[39;49m\u001b[43m.\u001b[49m\u001b[43m_network_stream\u001b[49m\u001b[43m.\u001b[49m\u001b[43mread\u001b[49m\u001b[43m(\u001b[49m\n\u001b[32m    218\u001b[39m \u001b[43m        \u001b[49m\u001b[38;5;28;43mself\u001b[39;49m\u001b[43m.\u001b[49m\u001b[43mREAD_NUM_BYTES\u001b[49m\u001b[43m,\u001b[49m\u001b[43m \u001b[49m\u001b[43mtimeout\u001b[49m\u001b[43m=\u001b[49m\u001b[43mtimeout\u001b[49m\n\u001b[32m    219\u001b[39m \u001b[43m    \u001b[49m\u001b[43m)\u001b[49m\n\u001b[32m    221\u001b[39m     \u001b[38;5;66;03m# If we feed this case through h11 we'll raise an exception like:\u001b[39;00m\n\u001b[32m    222\u001b[39m     \u001b[38;5;66;03m#\u001b[39;00m\n\u001b[32m    223\u001b[39m     \u001b[38;5;66;03m#     httpcore.RemoteProtocolError: can't handle event type\u001b[39;00m\n\u001b[32m   (...)\u001b[39m\u001b[32m    227\u001b[39m     \u001b[38;5;66;03m# perspective. Instead we handle this case distinctly and treat\u001b[39;00m\n\u001b[32m    228\u001b[39m     \u001b[38;5;66;03m# it as a ConnectError.\u001b[39;00m\n\u001b[32m    229\u001b[39m     \u001b[38;5;28;01mif\u001b[39;00m data == \u001b[33mb\u001b[39m\u001b[33m\"\u001b[39m\u001b[33m\"\u001b[39m \u001b[38;5;129;01mand\u001b[39;00m \u001b[38;5;28mself\u001b[39m._h11_state.their_state == h11.SEND_RESPONSE:\n",
      "\u001b[36mFile \u001b[39m\u001b[32m~/repos/icfpc/.venv/lib/python3.11/site-packages/httpcore/_backends/sync.py:128\u001b[39m, in \u001b[36mSyncStream.read\u001b[39m\u001b[34m(self, max_bytes, timeout)\u001b[39m\n\u001b[32m    126\u001b[39m \u001b[38;5;28;01mwith\u001b[39;00m map_exceptions(exc_map):\n\u001b[32m    127\u001b[39m     \u001b[38;5;28mself\u001b[39m._sock.settimeout(timeout)\n\u001b[32m--> \u001b[39m\u001b[32m128\u001b[39m     \u001b[38;5;28;01mreturn\u001b[39;00m \u001b[38;5;28;43mself\u001b[39;49m\u001b[43m.\u001b[49m\u001b[43m_sock\u001b[49m\u001b[43m.\u001b[49m\u001b[43mrecv\u001b[49m\u001b[43m(\u001b[49m\u001b[43mmax_bytes\u001b[49m\u001b[43m)\u001b[49m\n",
      "\u001b[36mFile \u001b[39m\u001b[32m~/.local/share/uv/python/cpython-3.11.6-macos-aarch64-none/lib/python3.11/ssl.py:1296\u001b[39m, in \u001b[36mSSLSocket.recv\u001b[39m\u001b[34m(self, buflen, flags)\u001b[39m\n\u001b[32m   1292\u001b[39m     \u001b[38;5;28;01mif\u001b[39;00m flags != \u001b[32m0\u001b[39m:\n\u001b[32m   1293\u001b[39m         \u001b[38;5;28;01mraise\u001b[39;00m \u001b[38;5;167;01mValueError\u001b[39;00m(\n\u001b[32m   1294\u001b[39m             \u001b[33m\"\u001b[39m\u001b[33mnon-zero flags not allowed in calls to recv() on \u001b[39m\u001b[38;5;132;01m%s\u001b[39;00m\u001b[33m\"\u001b[39m %\n\u001b[32m   1295\u001b[39m             \u001b[38;5;28mself\u001b[39m.\u001b[34m__class__\u001b[39m)\n\u001b[32m-> \u001b[39m\u001b[32m1296\u001b[39m     \u001b[38;5;28;01mreturn\u001b[39;00m \u001b[38;5;28;43mself\u001b[39;49m\u001b[43m.\u001b[49m\u001b[43mread\u001b[49m\u001b[43m(\u001b[49m\u001b[43mbuflen\u001b[49m\u001b[43m)\u001b[49m\n\u001b[32m   1297\u001b[39m \u001b[38;5;28;01melse\u001b[39;00m:\n\u001b[32m   1298\u001b[39m     \u001b[38;5;28;01mreturn\u001b[39;00m \u001b[38;5;28msuper\u001b[39m().recv(buflen, flags)\n",
      "\u001b[36mFile \u001b[39m\u001b[32m~/.local/share/uv/python/cpython-3.11.6-macos-aarch64-none/lib/python3.11/ssl.py:1169\u001b[39m, in \u001b[36mSSLSocket.read\u001b[39m\u001b[34m(self, len, buffer)\u001b[39m\n\u001b[32m   1167\u001b[39m         \u001b[38;5;28;01mreturn\u001b[39;00m \u001b[38;5;28mself\u001b[39m._sslobj.read(\u001b[38;5;28mlen\u001b[39m, buffer)\n\u001b[32m   1168\u001b[39m     \u001b[38;5;28;01melse\u001b[39;00m:\n\u001b[32m-> \u001b[39m\u001b[32m1169\u001b[39m         \u001b[38;5;28;01mreturn\u001b[39;00m \u001b[38;5;28;43mself\u001b[39;49m\u001b[43m.\u001b[49m\u001b[43m_sslobj\u001b[49m\u001b[43m.\u001b[49m\u001b[43mread\u001b[49m\u001b[43m(\u001b[49m\u001b[38;5;28;43mlen\u001b[39;49m\u001b[43m)\u001b[49m\n\u001b[32m   1170\u001b[39m \u001b[38;5;28;01mexcept\u001b[39;00m SSLError \u001b[38;5;28;01mas\u001b[39;00m x:\n\u001b[32m   1171\u001b[39m     \u001b[38;5;28;01mif\u001b[39;00m x.args[\u001b[32m0\u001b[39m] == SSL_ERROR_EOF \u001b[38;5;129;01mand\u001b[39;00m \u001b[38;5;28mself\u001b[39m.suppress_ragged_eofs:\n",
      "\u001b[31mKeyboardInterrupt\u001b[39m: "
     ]
    }
   ],
   "source": [
    "\n",
    "def generate_random_graph_parameter_free(room_labels: list[int]):\n",
    "    # 3部屋 x 6ドア = 18個のすべてのドアをリストアップ\n",
    "    # (部屋インデックス, ドア番号) のタプルで管理\n",
    "    available_doors = []\n",
    "    for room_idx in range(3):\n",
    "        for door_idx in range(6):\n",
    "            available_doors.append((room_idx, door_idx))\n",
    "\n",
    "    connections = []\n",
    "    \n",
    "    # 利用可能なドアがなくなるまでペアを作り続ける\n",
    "    while available_doors:\n",
    "        # 1. 接続元となるドアd1をランダムに選び、リストから削除する\n",
    "        d1_index = random.randrange(len(available_doors))\n",
    "        d1 = available_doors.pop(d1_index)\n",
    "        \n",
    "        # 2. 接続先d2の候補リストを作成する\n",
    "        #    候補は「残りの利用可能なドア」+「d1自身」\n",
    "        potential_partners = available_doors + [d1]\n",
    "        \n",
    "        # 3. 候補の中からランダムにd2を選ぶ\n",
    "        d2 = random.choice(potential_partners)\n",
    "        \n",
    "        # 4. d2がd1自身でなかった場合（自己ループでない場合）、\n",
    "        #    d2も利用可能リストから削除する\n",
    "        if d1 != d2:\n",
    "            available_doors.remove(d2)\n",
    "            \n",
    "        # 5. Vモデルのインスタンスを作成して、接続リストに追加する\n",
    "        v1 = V(room=d1[0], door=d1[1])\n",
    "        v2 = V(room=d2[0], door=d2[1])\n",
    "        connections.append((v1, v2))\n",
    "\n",
    "    # 開始部屋をランダムに選択\n",
    "    starting_room_index = 0\n",
    "\n",
    "    return room_labels, starting_room_index, connections\n",
    "\n",
    "\n",
    "class AedificiumSimulator:\n",
    "    \"\"\"\n",
    "    生成された地図情報をもとに、ルートプランの実行結果をシミュレートするクラス。\n",
    "    \"\"\"\n",
    "    def __init__(self, rooms: list[int], startingRoom: int, connections: list[tuple[V, V]]):\n",
    "        \"\"\"\n",
    "        シミュレータを初期化します。\n",
    "\n",
    "        Args:\n",
    "            rooms (List[int]): 各部屋のラベルのリスト。インデックスが部屋IDとなる。\n",
    "            startingRoom (int): 開始部屋のインデックス (ID)。\n",
    "            connections (List[Tuple[V, V]]): 部屋の接続情報のリスト。\n",
    "        \"\"\"\n",
    "        self.rooms = rooms\n",
    "        self.starting_room_index = startingRoom\n",
    "        \n",
    "        # 高速に移動先を検索するための「遷移マップ」を構築する\n",
    "        # (部屋ID, ドア番号) -> (次の部屋ID, 入るドア番号)\n",
    "        self.transition_map: dict[tuple[int, int], tuple[int, int]] = {}\n",
    "        self._build_transition_map(connections)\n",
    "\n",
    "    def _build_transition_map(self, connections: list[tuple[V, V]]):\n",
    "        \"\"\"\n",
    "        接続リストから、双方向の遷移マップを効率的に構築します。\n",
    "        \"\"\"\n",
    "        for v1, v2 in connections:\n",
    "            # from v1 to v2\n",
    "            from_key = (v1.room, v1.door)\n",
    "            to_value = (v2.room, v2.door)\n",
    "            self.transition_map[from_key] = to_value\n",
    "\n",
    "            # from v2 to v1 (グラフは無向なので、逆方向の接続も追加)\n",
    "            from_key_reverse = (v2.room, v2.door)\n",
    "            to_value_reverse = (v1.room, v1.door)\n",
    "            self.transition_map[from_key_reverse] = to_value_reverse\n",
    "        \n",
    "        # 接続されていないドアがないかチェック (デバッグ用)\n",
    "        total_doors = len(self.rooms) * 6\n",
    "        if len(self.transition_map) != total_doors:\n",
    "            print(f\"警告: 遷移マップのエントリ数が{len(self.transition_map)}です。\"\n",
    "                  f\"想定されるドアの総数({total_doors})と一致しません。\")\n",
    "\n",
    "    def simulate_plan(self, plan: str) -> list[int]:\n",
    "        \"\"\"\n",
    "        与えられたルートプランを実行し、観測される部屋ラベルのリスト（アドソの記録）を返します。\n",
    "\n",
    "        Args:\n",
    "            plan (str): '0'から'5'の数字で構成されるルートプラン文字列。例: \"0325\"\n",
    "\n",
    "        Returns:\n",
    "            List[int]: ルートプランに従って移動した際に観測される部屋ラベルのシーケンス。\n",
    "        \"\"\"\n",
    "        if not plan:\n",
    "            return []\n",
    "\n",
    "        current_room_index = self.starting_room_index\n",
    "        observed_labels = [current_room_index]\n",
    "\n",
    "        for door_char in plan:\n",
    "            exit_door = int(door_char)\n",
    "            \n",
    "            # 現在の部屋と出るドアから、次の部屋と入るドアを検索\n",
    "            lookup_key = (current_room_index, exit_door)\n",
    "            destination = self.transition_map.get(lookup_key)\n",
    "\n",
    "            if destination is None:\n",
    "                raise ValueError(f\"地図が不正です: 部屋{current_room_index}のドア{exit_door}からの接続が見つかりません。\")\n",
    "\n",
    "            next_room_index, _ = destination # 入るドアの情報は今回は使わない\n",
    "            \n",
    "            # 次の部屋に移動\n",
    "            current_room_index = next_room_index\n",
    "            \n",
    "            # 移動先の部屋のラベルを記録\n",
    "            observed_labels.append(self.rooms[current_room_index])\n",
    "            \n",
    "        return observed_labels\n",
    "\n",
    "\n",
    "attempts = 0\n",
    "while True:\n",
    "    attempts += 1\n",
    "    print(f\"--- Attempt #{attempts} ---\")\n",
    "    select(problems[0])\n",
    "    plans = \"\".join([str(random.randint(0,5)) for _ in range(54)])\n",
    "    result = explore([plans])[0]\n",
    "\n",
    "    cou = 0\n",
    "    while True:\n",
    "        cou += 1\n",
    "        # ランダムなグラフを生成\n",
    "        rooms, startingRoom, connections = generate_random_graph_parameter_free([0,1,2])\n",
    "        sim = AedificiumSimulator(rooms=rooms, startingRoom=startingRoom, connections=connections)\n",
    "        r = sim.simulate_plan(plans)\n",
    "        if cou % 100000 == 0:\n",
    "            print(cou)\n",
    "            break\n",
    "        if r == result:\n",
    "            print(\"fount\")\n",
    "            r = guess(\n",
    "                rooms=[0,1,2], \n",
    "                startingRoom=0,\n",
    "                connections=connections\n",
    "            )\n",
    "            response_json = r.json()\n",
    "            print(f\"Response: {response_json}\")\n",
    "            if response_json.get(\"correct\"):\n",
    "                print(\"正解しました！\")\n",
    "                break\n",
    "            else:\n",
    "                print(\"不正解です。新しい問題で再挑戦します。\")\n",
    "                # 不正解の場合、問題がリセットされるので再度selectから始める必要がある\n",
    "                select(problems[0])"
   ]
  },
  {
   "cell_type": "code",
   "execution_count": null,
   "id": "b7f9c224",
   "metadata": {},
   "outputs": [
    {
     "data": {
      "text/plain": [
       "0.26666666666666666"
      ]
     },
     "execution_count": 94,
     "metadata": {},
     "output_type": "execute_result"
    }
   ],
   "source": [
    "8 / 30"
   ]
  },
  {
   "cell_type": "code",
   "execution_count": null,
   "id": "9b308e5a",
   "metadata": {},
   "outputs": [],
   "source": [
    "await guess(\n",
    "    rooms\n",
    ")"
   ]
  }
 ],
 "metadata": {
  "kernelspec": {
   "display_name": "icfpc",
   "language": "python",
   "name": "python3"
  },
  "language_info": {
   "codemirror_mode": {
    "name": "ipython",
    "version": 3
   },
   "file_extension": ".py",
   "mimetype": "text/x-python",
   "name": "python",
   "nbconvert_exporter": "python",
   "pygments_lexer": "ipython3",
   "version": "3.11.6"
  }
 },
 "nbformat": 4,
 "nbformat_minor": 5
}
