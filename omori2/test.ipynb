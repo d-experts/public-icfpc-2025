{
 "cells": [
  {
   "cell_type": "code",
   "execution_count": null,
   "id": "d0cc571b",
   "metadata": {},
   "outputs": [],
   "source": []
  },
  {
   "cell_type": "code",
   "execution_count": null,
   "id": "3bdcdd44",
   "metadata": {},
   "outputs": [],
   "source": [
    "import httpx\n",
    "c = httpx.AsyncClient()\n",
    "\n",
    "team_id = \"\"\n",
    "team_id = \"\"\n",
    "base_url = \"https://31pwr5t6ij.execute-api.eu-west-2.amazonaws.com\"\n",
    "base_url = \"http://127.0.0.1:5000\""
   ]
  },
  {
   "cell_type": "code",
   "execution_count": 2,
   "id": "6101518e",
   "metadata": {},
   "outputs": [],
   "source": [
    "problems = [\n",
    "    \"probatio\",\n",
    "    \"primus\",\n",
    "    \"secundus\",\n",
    "    \"tertius\",\n",
    "    \"quartus\",\n",
    "    \"quintus\"\n",
    "]"
   ]
  },
  {
   "cell_type": "code",
   "execution_count": null,
   "id": "b9f36413",
   "metadata": {},
   "outputs": [],
   "source": [
    "import httpx\n",
    "from pydantic import BaseModel\n",
    "\n",
    "c = httpx.Client()\n",
    "\n",
    "team_id = \"\"\n",
    "team_id = \"\"\n",
    "base_url = \"https://31pwr5t6ij.execute-api.eu-west-2.amazonaws.com\"\n",
    "\n",
    "problems = [\n",
    "    \"probatio\",\n",
    "    \"primus\",\n",
    "    \"secundus\",\n",
    "    \"tertius\",\n",
    "    \"quartus\",\n",
    "    \"quintus\"\n",
    "]\n",
    "\n",
    "def select(problemName: str):\n",
    "    return c.post(f\"{base_url}/select\", json={\n",
    "        \"id\": team_id,\n",
    "        \"problemName\": problemName\n",
    "    })\n",
    "\n",
    "def explore(plans: list[str]) -> list[list[int]]:\n",
    "    r = c.post(f\"{base_url}/explore\", json={\n",
    "        \"id\": team_id,\n",
    "        \"plans\": plans,\n",
    "    })\n",
    "    if r.status_code != 200:\n",
    "        print(r.text)\n",
    "        r.raise_for_status()\n",
    "    return (r).json()[\"results\"]\n",
    "\n",
    "class V(BaseModel):\n",
    "    room: int\n",
    "    door: int\n",
    "\n",
    "def guess(rooms: list[int], startingRoom: int, connections: list[tuple[V,V]]):\n",
    "    conn = {\n",
    "        \"id\": team_id,\n",
    "        \"map\": {\n",
    "            \"rooms\": rooms,\n",
    "            \"startingRoom\": startingRoom,\n",
    "            \"connections\": [\n",
    "                {\"from\": v1.model_dump(), \"to\": v2.model_dump()} for (v1,v2) in connections\n",
    "            ]\n",
    "        }\n",
    "    }\n",
    "    print(conn)\n",
    "    return c.post(f\"{base_url}/guess\", json=conn)\n"
   ]
  },
  {
   "cell_type": "code",
   "execution_count": null,
   "id": "437e1c15",
   "metadata": {},
   "outputs": [],
   "source": [
    "# Action\t0\t1\t2\t3\t4\t5\n",
    "# State\t\t\t\t\t\t\n",
    "# 0\t{2, 3}\t{0}\t{0, 1}\t{0, 1}\t{0, 1}\t{1, 2}\n",
    "# 1\t{1, 3}\t{0, 1}\t{0, 3}\t{0, 1}\t{1, 3}\t{0, 1}\n",
    "# 2\t{0}\t{2}\t{2}\t{0}\t{3}\t{3}\n",
    "# 3\t{1}\t{2}\t{1}\t{1}\t{2}\t{0}\n",
    "\n",
    "import z3\n"
   ]
  },
  {
   "cell_type": "code",
   "execution_count": 9,
   "id": "4a9344c5",
   "metadata": {},
   "outputs": [
    {
     "name": "stdout",
     "output_type": "stream",
     "text": [
      "525453415523444404012213534420503334445002054120533034242035354150430520142205045331400051540213032351121141\n",
      "0202101021033000000030312121033201210102013321201012010300001010212120201213010102123000011101312013323131212\n",
      "{'120103', '031212', '332313', '000101', '202101', '020121', '121301', '111013', '000303', '013120', '330000', '033201', '230000', '103000', '011101', '000003', '010210', '201030', '201213', '101312', '312013', '301010', '013321', '133212', '303121', '020133', '012101', '033000', '321201', '120201', '210332', '121010', '121033', '013323', '010120', '133231', '000030', '120101', '120133', '212020', '012010', '210102', '332120', '323131', '001110', '231312', '102013', '213010', '102103', '101201', '121210', '300001', '210330', '201012', '201210', '312121', '000111', '332012', '130101', '000000', '103320', '212120', '101021', '201332', '010102', '110131', '030312', '003031', '103300', '212010', '121202', '320121', '313121', '021010', '300000', '010300', '021033', '010212', '012130', '212103', '101020', '102123', '010201', '000010', '021230', '123000', '000011', '202012', '131201', '021212', '212300', '001010', '131212', '102121', '020210', '030000'} 96\n"
     ]
    }
   ],
   "source": [
    "import random\n",
    "\n",
    "\n",
    "select(problems[1])\n",
    "n=6\n",
    "plans = \"\".join([str(random.randint(0,5)) for _ in range(n * 18)])\n",
    "results = \"\".join([str(a) for a in explore([plans])[0]])\n",
    "print(plans)\n",
    "print(results)\n",
    "length = 6\n",
    "# 長さが５のsubstrings\n",
    "substrings = set()\n",
    "for i in range(len(results) - length + 1):\n",
    "    substrings.add(results[i:i+length])\n",
    "print(substrings, len(substrings))"
   ]
  },
  {
   "cell_type": "code",
   "execution_count": 71,
   "id": "5710e4e7",
   "metadata": {},
   "outputs": [
    {
     "data": {
      "text/plain": [
       "'0001020101113312133320023032233010222102032301212033311322222223332001111020000100211102222232321101101212101113010110331300230122222222200321003010212220110000022222223222210122210031002123032320023222222220100221020'"
      ]
     },
     "execution_count": 71,
     "metadata": {},
     "output_type": "execute_result"
    }
   ],
   "source": [
    "select(problems[-1])\n",
    "r = explore([\"115245025105023511443135433021153123153322105521015544420201443204300141113400500431553530455422430033525213005553024122010410544043441334352323452154243502121032520402442010442313113353451022133245300122031551315224\"])[0]\n",
    "\"\".join(map(str, r))"
   ]
  },
  {
   "cell_type": "code",
   "execution_count": 74,
   "id": "fc8c2da4",
   "metadata": {},
   "outputs": [
    {
     "data": {
      "text/plain": [
       "'0102131312101322000012201301131322111311122131101312110003012322100003103031013000111010000101012101100112201'"
      ]
     },
     "execution_count": 74,
     "metadata": {},
     "output_type": "execute_result"
    }
   ],
   "source": [
    "select(problems[1])\n",
    "r = explore([\"312005052044012415055145002313012345023321012522022344113045512045013543032420010345352145313355042345342145\"])[0]\n",
    "\"\".join(map(str, r))"
   ]
  },
  {
   "cell_type": "code",
   "execution_count": 75,
   "metadata": {},
   "outputs": [
    {
     "data": {
      "text/plain": [
       "'0110112223103010033030113231111101320102011101013100103010220110211010111312303023003023132231103011010030230201000110311010131030111110202010111122211300100321012303030303010111033011313033010101102322220202310222021011312300111011111330010133010301111000101030222223032311222202033020230223111122303222303003323112232202010'"
      ]
     },
     "execution_count": 75,
     "metadata": {},
     "output_type": "execute_result"
    }
   ],
   "source": [
    "select(problems[3])\n",
    "r = explore([\"115242025100423511440135435021102123113312105521025540450201141251300141113450553434553230050400432030525243005553324422010410544041441334352323422154343305151032540402442010442411513553411422101255300122004551340223011112503141014324531315213035245302053130345250114403352224002142432243253141535240544200234233522031203355\"])[0]\n",
    "\"\".join(map(str, r))"
   ]
  },
  {
   "cell_type": "code",
   "execution_count": 76,
   "metadata": {},
   "outputs": [
    {
     "data": {
      "text/plain": [
       "'0020130300232323121112121022321101120021230013121313100203031003031121311112313131311131020131012123223122212120101133120101030000103003303000101020200222320331220300000333232113112112030211110223003012101311132313022132311011312131322021213202311221123202020000201021131111020120220222231011313203032002023202030302311232321000111111111110100323022120000103302221213333011230012011311123222222221023111222123230020223233030033302201'"
      ]
     },
     "execution_count": 76,
     "metadata": {},
     "output_type": "execute_result"
    }
   ],
   "source": [
    "select(problems[4])\n",
    "r = explore([\"115242025102023511443135433021522123114312105521015544450201443251300141113250553431553230055402432033525543005553354122010410544041441334352325422154243305121032520402442010442313112353411422133245300122031551315224011312503143014224531315210034244302053035545150114403332523002042432543253131235230544200234233522051201355441532333400421324301204135252043331501213353333012102203134034124325244212414500114012132050100250304032533\"])[0]\n",
    "\"\".join(map(str, r))"
   ]
  },
  {
   "cell_type": "code",
   "execution_count": 171,
   "id": "51ffb0a6",
   "metadata": {},
   "outputs": [],
   "source": [
    "class UnionFind:\n",
    "    def __init__(self, n):\n",
    "        self.parent = list(range(n))\n",
    "        self.rank = [0] * n\n",
    "\n",
    "    def find(self, x):\n",
    "        if self.parent[x] != x:\n",
    "            self.parent[x] = self.find(self.parent[x])\n",
    "        return self.parent[x]\n",
    "\n",
    "    def union(self, x, y):\n",
    "        rootX = self.find(x)\n",
    "        rootY = self.find(y)\n",
    "        if rootX != rootY:\n",
    "            if self.rank[rootX] > self.rank[rootY]:\n",
    "                self.parent[rootY] = rootX\n",
    "            elif self.rank[rootX] < self.rank[rootY]:\n",
    "                self.parent[rootX] = rootY\n",
    "            else:\n",
    "                self.parent[rootY] = rootX\n",
    "                self.rank[rootX] += 1\n",
    "    def roots(self):\n",
    "        return set(self.find(x) for x in range(len(self.parent)))\n",
    "def enumerate_string_of_length(n, alphabet):\n",
    "    if n == 0:\n",
    "        yield \"\"\n",
    "    else:\n",
    "        for s in enumerate_string_of_length(n - 1, alphabet):\n",
    "            for letter in alphabet:\n",
    "                yield s + letter"
   ]
  },
  {
   "cell_type": "code",
   "execution_count": null,
   "id": "22bae280",
   "metadata": {},
   "outputs": [],
   "source": [
    "select(problems[1])\n",
    "explore([\"1111111111\"])[0]"
   ]
  },
  {
   "cell_type": "code",
   "execution_count": 67,
   "id": "b784662c",
   "metadata": {},
   "outputs": [
    {
     "name": "stdout",
     "output_type": "stream",
     "text": [
      "[0, 1, 0, 0, 0, 1, 0, 2, 0, 1, 2, 2, 2, 0, 3, 2, 3, 3, 1, 3, 2, 0, 1, 3, 1, 0, 2, 3, 1, 3, 2, 3, 1, 0, 1, 1, 3, 2, 3, 1, 3, 1, 3, 1, 1, 1, 0, 1, 3, 2, 2, 2, 1, 2, 2, 1, 3, 1, 1, 2, 1, 2, 0, 0, 0, 3, 0, 1, 0, 2, 2, 2, 2, 2, 3, 3, 1, 3, 2, 2, 1, 0, 1, 0, 0, 1, 2, 1, 2, 1, 0, 3, 0, 1, 1, 3, 3, 1, 1, 0, 1, 2, 2, 2, 1, 2, 3, 1, 3, 3, 3, 2, 3, 2, 2, 2, 2, 3, 3, 3, 2, 1, 0, 3, 0, 1, 0, 1, 2, 2, 3, 2, 3, 0, 2, 0, 1, 0, 1, 0, 2, 0, 0, 0, 2, 2, 3, 1, 1, 0, 2, 1, 0, 0, 1, 3, 1, 3, 1, 1, 0, 0, 1, 0, 1, 0, 0, 1, 3, 2, 3, 3, 3, 0, 0, 1, 0, 3, 0, 3, 3, 3, 3, 0, 0, 1, 2, 1, 2, 1, 0, 3, 0, 2, 0, 1, 3, 1, 3, 2, 0, 0, 0, 3, 2, 3, 3, 2, 2, 2, 2, 0, 1, 0, 1, 0, 0]\n"
     ]
    },
    {
     "data": {
      "text/plain": [
       "{0: 56, 1: 58, 2: 53, 3: 50}"
      ]
     },
     "execution_count": 67,
     "metadata": {},
     "output_type": "execute_result"
    }
   ],
   "source": [
    "select(problems[2])\n",
    "result = explore([\"\".join([random.choice(\"012345\") for _ in range(12 * 18)])])[0]\n",
    "print(result)\n",
    "\n",
    "count_map = {}\n",
    "for r in result:\n",
    "    count_map[r] = count_map.get(r, 0) + 1\n",
    "count_map"
   ]
  },
  {
   "cell_type": "code",
   "execution_count": 374,
   "id": "4a2915df",
   "metadata": {},
   "outputs": [
    {
     "name": "stdout",
     "output_type": "stream",
     "text": [
      "sig 01201\n",
      "012015001201540120121012013201201550120122012013201201210120104012010501201250120152012014101201050120135012\n",
      "[0, 0, 0, 1, 0, 1, 0, 1, 0, 1, 2, 0, 1, 0, 1, 0, 1, 2, 0, 1, 2, 1, 1, 2, 1, 1, 2, 3, 0, 0, 0, 1, 0, 1, 0, 2, 0, 1, 2, 0, 1, 2, 1, 1, 2, 1, 1, 2, 3, 0, 0, 0, 1, 0, 1, 2, 1, 1, 2, 1, 1, 2, 0, 1, 0, 1, 2, 0, 1, 1, 1, 1, 2, 1, 1, 2, 1, 0, 1, 2, 1, 1, 2, 1, 0, 1, 2, 1, 1, 2, 0, 1, 1, 2, 1, 1, 2, 0, 2, 0, 1, 2, 0, 1, 3, 3, 3, 1, 2]\n",
      "sig_positions 15 [0, 7, 14, 21, 28, 35, 42, 49, 56, 63, 70, 77, 84, 91, 98]\n",
      "{'11211', '01211', '10120', '20120', '00010'}\n",
      "5\n"
     ]
    }
   ],
   "source": [
    "select(problems[1])\n",
    "n = 6\n",
    "\n",
    "sig_len = 5\n",
    "sig = random.choice(list(enumerate_string_of_length(sig_len, \"012345\")))\n",
    "sig = \"01201\"\n",
    "print(\"sig\", sig)\n",
    "\n",
    "cur = sig\n",
    "while len(cur) < n * 18:\n",
    "    random_string = \"\".join([random.choice(\"012345\") for _ in range(2)])\n",
    "    cur += random_string + sig\n",
    "if len(cur) > n * 18:\n",
    "    cur = cur[:n * 18]\n",
    "print(cur)\n",
    "\n",
    "result = explore([cur])[0]\n",
    "print(result)\n",
    "\n",
    "sig_results = []\n",
    "sig_positions = [i for i in range(len(cur)) if cur[i:i+sig_len] == sig]\n",
    "\n",
    "print(\"sig_positions\", len(sig_positions), sig_positions)\n",
    "for sig_pos in sig_positions:\n",
    "    sig_result = \"\".join([str(a) for a in result[sig_pos: sig_pos + sig_len]])\n",
    "    sig_results.append(sig_result)\n",
    "\n",
    "print(set(sig_results))\n",
    "print(len(set(sig_results)))"
   ]
  },
  {
   "cell_type": "code",
   "execution_count": 187,
   "id": "0879f307",
   "metadata": {},
   "outputs": [
    {
     "name": "stdout",
     "output_type": "stream",
     "text": [
      "done\n",
      "4\n"
     ]
    }
   ],
   "source": [
    "uf = UnionFind(len(results) - 1)\n",
    "ss_len = 3\n",
    "ss_t = list(enumerate_string_of_length(ss_len, \"012345\"))\n",
    "for s in ss_t:\n",
    "    positions = [i for i in range(len(results) - ss_len) if results[i:i+ss_len] == s]\n",
    "    if len(positions) >= 2:\n",
    "        corresponding_results = [results[i: i+ss_len] for i in positions]\n",
    "        if len(set(corresponding_results)) == 1:\n",
    "            for p1_start, p2_start in zip(positions, positions[1:]):\n",
    "                for i in range(ss_len):\n",
    "                    uf.union(p1_start + i, p2_start + i)\n",
    "print(\"done\")\n",
    "print(len(uf.roots()))"
   ]
  },
  {
   "cell_type": "code",
   "execution_count": 84,
   "id": "6ad6f479",
   "metadata": {},
   "outputs": [
    {
     "name": "stdout",
     "output_type": "stream",
     "text": [
      "--- Attempt #1 ---\n",
      "100000\n",
      "--- Attempt #2 ---\n",
      "100000\n",
      "--- Attempt #3 ---\n",
      "100000\n",
      "--- Attempt #4 ---\n",
      "100000\n",
      "--- Attempt #5 ---\n",
      "100000\n",
      "--- Attempt #6 ---\n",
      "100000\n",
      "--- Attempt #7 ---\n",
      "100000\n",
      "--- Attempt #8 ---\n",
      "100000\n",
      "--- Attempt #9 ---\n",
      "100000\n",
      "--- Attempt #10 ---\n",
      "100000\n",
      "--- Attempt #11 ---\n",
      "100000\n",
      "--- Attempt #12 ---\n",
      "100000\n",
      "--- Attempt #13 ---\n",
      "100000\n",
      "--- Attempt #14 ---\n",
      "found\n",
      "{'id': 'nakayoshi-tomohiro@d-experts.com b87BSgo-rQ9u5sXtIZSfXA', 'map': {'rooms': [0, 1, 2], 'startingRoom': 0, 'connections': [{'from': {'room': 2, 'door': 3}, 'to': {'room': 1, 'door': 1}}, {'from': {'room': 1, 'door': 3}, 'to': {'room': 0, 'door': 5}}, {'from': {'room': 0, 'door': 4}, 'to': {'room': 0, 'door': 1}}, {'from': {'room': 1, 'door': 2}, 'to': {'room': 2, 'door': 1}}, {'from': {'room': 0, 'door': 2}, 'to': {'room': 0, 'door': 0}}, {'from': {'room': 1, 'door': 4}, 'to': {'room': 2, 'door': 0}}, {'from': {'room': 1, 'door': 0}, 'to': {'room': 2, 'door': 2}}, {'from': {'room': 0, 'door': 3}, 'to': {'room': 1, 'door': 5}}, {'from': {'room': 2, 'door': 5}, 'to': {'room': 2, 'door': 4}}]}}\n",
      "Response: {'correct': True}\n",
      "正解しました！\n",
      "--- Attempt #15 ---\n",
      "100000\n",
      "--- Attempt #16 ---\n",
      "100000\n",
      "--- Attempt #17 ---\n"
     ]
    },
    {
     "ename": "KeyboardInterrupt",
     "evalue": "",
     "output_type": "error",
     "traceback": [
      "\u001b[31m---------------------------------------------------------------------------\u001b[39m",
      "\u001b[31mKeyboardInterrupt\u001b[39m                         Traceback (most recent call last)",
      "\u001b[36mCell\u001b[39m\u001b[36m \u001b[39m\u001b[32mIn[84]\u001b[39m\u001b[32m, line 130\u001b[39m\n\u001b[32m    128\u001b[39m cou += \u001b[32m1\u001b[39m\n\u001b[32m    129\u001b[39m \u001b[38;5;66;03m# ランダムなグラフを生成\u001b[39;00m\n\u001b[32m--> \u001b[39m\u001b[32m130\u001b[39m rooms, startingRoom, connections = \u001b[43mgenerate_random_graph_parameter_free\u001b[49m\u001b[43m(\u001b[49m\u001b[43m[\u001b[49m\u001b[32;43m0\u001b[39;49m\u001b[43m,\u001b[49m\u001b[32;43m1\u001b[39;49m\u001b[43m,\u001b[49m\u001b[32;43m2\u001b[39;49m\u001b[43m]\u001b[49m\u001b[43m)\u001b[49m\n\u001b[32m    131\u001b[39m sim = AedificiumSimulator(rooms=rooms, startingRoom=startingRoom, connections=connections)\n\u001b[32m    132\u001b[39m r = sim.simulate_plan(plans)\n",
      "\u001b[36mCell\u001b[39m\u001b[36m \u001b[39m\u001b[32mIn[84]\u001b[39m\u001b[32m, line 30\u001b[39m, in \u001b[36mgenerate_random_graph_parameter_free\u001b[39m\u001b[34m(room_labels)\u001b[39m\n\u001b[32m     28\u001b[39m     \u001b[38;5;66;03m# 5. Vモデルのインスタンスを作成して、接続リストに追加する\u001b[39;00m\n\u001b[32m     29\u001b[39m     v1 = V(room=d1[\u001b[32m0\u001b[39m], door=d1[\u001b[32m1\u001b[39m])\n\u001b[32m---> \u001b[39m\u001b[32m30\u001b[39m     v2 = \u001b[43mV\u001b[49m\u001b[43m(\u001b[49m\u001b[43mroom\u001b[49m\u001b[43m=\u001b[49m\u001b[43md2\u001b[49m\u001b[43m[\u001b[49m\u001b[32;43m0\u001b[39;49m\u001b[43m]\u001b[49m\u001b[43m,\u001b[49m\u001b[43m \u001b[49m\u001b[43mdoor\u001b[49m\u001b[43m=\u001b[49m\u001b[43md2\u001b[49m\u001b[43m[\u001b[49m\u001b[32;43m1\u001b[39;49m\u001b[43m]\u001b[49m\u001b[43m)\u001b[49m\n\u001b[32m     31\u001b[39m     connections.append((v1, v2))\n\u001b[32m     33\u001b[39m \u001b[38;5;66;03m# 開始部屋をランダムに選択\u001b[39;00m\n",
      "\u001b[36mFile \u001b[39m\u001b[32m~/repos/icfpc/.venv/lib/python3.11/site-packages/pydantic/main.py:253\u001b[39m, in \u001b[36mBaseModel.__init__\u001b[39m\u001b[34m(self, **data)\u001b[39m\n\u001b[32m    251\u001b[39m \u001b[38;5;66;03m# `__tracebackhide__` tells pytest and some other tools to omit this function from tracebacks\u001b[39;00m\n\u001b[32m    252\u001b[39m __tracebackhide__ = \u001b[38;5;28;01mTrue\u001b[39;00m\n\u001b[32m--> \u001b[39m\u001b[32m253\u001b[39m validated_self = \u001b[38;5;28;43mself\u001b[39;49m\u001b[43m.\u001b[49m\u001b[43m__pydantic_validator__\u001b[49m\u001b[43m.\u001b[49m\u001b[43mvalidate_python\u001b[49m\u001b[43m(\u001b[49m\u001b[43mdata\u001b[49m\u001b[43m,\u001b[49m\u001b[43m \u001b[49m\u001b[43mself_instance\u001b[49m\u001b[43m=\u001b[49m\u001b[38;5;28;43mself\u001b[39;49m\u001b[43m)\u001b[49m\n\u001b[32m    254\u001b[39m \u001b[38;5;28;01mif\u001b[39;00m \u001b[38;5;28mself\u001b[39m \u001b[38;5;129;01mis\u001b[39;00m \u001b[38;5;129;01mnot\u001b[39;00m validated_self:\n\u001b[32m    255\u001b[39m     warnings.warn(\n\u001b[32m    256\u001b[39m         \u001b[33m'\u001b[39m\u001b[33mA custom validator is returning a value other than `self`.\u001b[39m\u001b[38;5;130;01m\\n\u001b[39;00m\u001b[33m'\u001b[39m\n\u001b[32m    257\u001b[39m         \u001b[33m\"\u001b[39m\u001b[33mReturning anything other than `self` from a top level model validator isn\u001b[39m\u001b[33m'\u001b[39m\u001b[33mt supported when validating via `__init__`.\u001b[39m\u001b[38;5;130;01m\\n\u001b[39;00m\u001b[33m\"\u001b[39m\n\u001b[32m    258\u001b[39m         \u001b[33m'\u001b[39m\u001b[33mSee the `model_validator` docs (https://docs.pydantic.dev/latest/concepts/validators/#model-validators) for more details.\u001b[39m\u001b[33m'\u001b[39m,\n\u001b[32m    259\u001b[39m         stacklevel=\u001b[32m2\u001b[39m,\n\u001b[32m    260\u001b[39m     )\n",
      "\u001b[31mKeyboardInterrupt\u001b[39m: "
     ]
    }
   ],
   "source": [
    "\n",
    "def generate_random_graph_parameter_free(room_labels: list[int]):\n",
    "    # 3部屋 x 6ドア = 18個のすべてのドアをリストアップ\n",
    "    # (部屋インデックス, ドア番号) のタプルで管理\n",
    "    available_doors = []\n",
    "    for room_idx in range(3):\n",
    "        for door_idx in range(6):\n",
    "            available_doors.append((room_idx, door_idx))\n",
    "\n",
    "    connections = []\n",
    "    # 利用可能なドアがなくなるまでペアを作り続ける\n",
    "    while available_doors:\n",
    "        # 1. 接続元となるドアd1をランダムに選び、リストから削除する\n",
    "        d1_index = random.randrange(len(available_doors))\n",
    "        d1 = available_doors.pop(d1_index)\n",
    "        \n",
    "        # 2. 接続先d2の候補リストを作成する\n",
    "        #    候補は「残りの利用可能なドア」+「d1自身」\n",
    "        potential_partners = available_doors + [d1]\n",
    "        \n",
    "        # 3. 候補の中からランダムにd2を選ぶ\n",
    "        d2 = random.choice(potential_partners)\n",
    "        \n",
    "        # 4. d2がd1自身でなかった場合（自己ループでない場合）、\n",
    "        #    d2も利用可能リストから削除する\n",
    "        if d1 != d2:\n",
    "            available_doors.remove(d2)\n",
    "            \n",
    "        # 5. Vモデルのインスタンスを作成して、接続リストに追加する\n",
    "        v1 = V(room=d1[0], door=d1[1])\n",
    "        v2 = V(room=d2[0], door=d2[1])\n",
    "        connections.append((v1, v2))\n",
    "\n",
    "    # 開始部屋をランダムに選択\n",
    "    starting_room_index = 0\n",
    "\n",
    "    return room_labels, starting_room_index, connections\n",
    "\n",
    "\n",
    "class AedificiumSimulator:\n",
    "    \"\"\"\n",
    "    生成された地図情報をもとに、ルートプランの実行結果をシミュレートするクラス。\n",
    "    \"\"\"\n",
    "    def __init__(self, rooms: list[int], startingRoom: int, connections: list[tuple[V, V]]):\n",
    "        \"\"\"\n",
    "        シミュレータを初期化します。\n",
    "\n",
    "        Args:\n",
    "            rooms (List[int]): 各部屋のラベルのリスト。インデックスが部屋IDとなる。\n",
    "            startingRoom (int): 開始部屋のインデックス (ID)。\n",
    "            connections (List[Tuple[V, V]]): 部屋の接続情報のリスト。\n",
    "        \"\"\"\n",
    "        self.rooms = rooms\n",
    "        self.starting_room_index = startingRoom\n",
    "        \n",
    "        # 高速に移動先を検索するための「遷移マップ」を構築する\n",
    "        # (部屋ID, ドア番号) -> (次の部屋ID, 入るドア番号)\n",
    "        self.transition_map: dict[tuple[int, int], tuple[int, int]] = {}\n",
    "        self._build_transition_map(connections)\n",
    "\n",
    "    def _build_transition_map(self, connections: list[tuple[V, V]]):\n",
    "        \"\"\"\n",
    "        接続リストから、双方向の遷移マップを効率的に構築します。\n",
    "        \"\"\"\n",
    "        for v1, v2 in connections:\n",
    "            # from v1 to v2\n",
    "            from_key = (v1.room, v1.door)\n",
    "            to_value = (v2.room, v2.door)\n",
    "            self.transition_map[from_key] = to_value\n",
    "\n",
    "            # from v2 to v1 (グラフは無向なので、逆方向の接続も追加)\n",
    "            from_key_reverse = (v2.room, v2.door)\n",
    "            to_value_reverse = (v1.room, v1.door)\n",
    "            self.transition_map[from_key_reverse] = to_value_reverse\n",
    "        \n",
    "        # 接続されていないドアがないかチェック (デバッグ用)\n",
    "        total_doors = len(self.rooms) * 6\n",
    "        if len(self.transition_map) != total_doors:\n",
    "            print(f\"警告: 遷移マップのエントリ数が{len(self.transition_map)}です。\"\n",
    "                  f\"想定されるドアの総数({total_doors})と一致しません。\")\n",
    "\n",
    "    def simulate_plan(self, plan: str) -> list[int]:\n",
    "        \"\"\"\n",
    "        与えられたルートプランを実行し、観測される部屋ラベルのリスト（アドソの記録）を返します。\n",
    "\n",
    "        Args:\n",
    "            plan (str): '0'から'5'の数字で構成されるルートプラン文字列。例: \"0325\"\n",
    "\n",
    "        Returns:\n",
    "            List[int]: ルートプランに従って移動した際に観測される部屋ラベルのシーケンス。\n",
    "        \"\"\"\n",
    "        if not plan:\n",
    "            return []\n",
    "\n",
    "        current_room_index = self.starting_room_index\n",
    "        observed_labels = [current_room_index]\n",
    "\n",
    "        for door_char in plan:\n",
    "            exit_door = int(door_char)\n",
    "            \n",
    "            # 現在の部屋と出るドアから、次の部屋と入るドアを検索\n",
    "            lookup_key = (current_room_index, exit_door)\n",
    "            destination = self.transition_map.get(lookup_key)\n",
    "\n",
    "            if destination is None:\n",
    "                raise ValueError(f\"地図が不正です: 部屋{current_room_index}のドア{exit_door}からの接続が見つかりません。\")\n",
    "\n",
    "            next_room_index, _ = destination # 入るドアの情報は今回は使わない\n",
    "            \n",
    "            # 次の部屋に移動\n",
    "            current_room_index = next_room_index\n",
    "            \n",
    "            # 移動先の部屋のラベルを記録\n",
    "            observed_labels.append(self.rooms[current_room_index])\n",
    "            \n",
    "        return observed_labels\n",
    "\n",
    "\n",
    "attempts = 0\n",
    "while True:\n",
    "    attempts += 1\n",
    "    print(f\"--- Attempt #{attempts} ---\")\n",
    "    select(problems[0])\n",
    "    plans = \"\".join([str(random.randint(0,5)) for _ in range(54)])\n",
    "    result = explore([plans])[0]\n",
    "\n",
    "    cou = 0\n",
    "    while True:\n",
    "        cou += 1\n",
    "        # ランダムなグラフを生成\n",
    "        rooms, startingRoom, connections = generate_random_graph_parameter_free([0,1,2])\n",
    "        sim = AedificiumSimulator(rooms=rooms, startingRoom=startingRoom, connections=connections)\n",
    "        r = sim.simulate_plan(plans)\n",
    "        if cou % 100000 == 0:\n",
    "            print(cou)\n",
    "            break\n",
    "        #print(r, result)\n",
    "        if r == result:\n",
    "            print(\"found\")\n",
    "            r = guess(\n",
    "                rooms=[0,1,2], \n",
    "                startingRoom=0,\n",
    "                connections=connections\n",
    "            )\n",
    "            response_json = r.json()\n",
    "            print(f\"Response: {response_json}\")\n",
    "            if response_json.get(\"correct\"):\n",
    "                print(\"正解しました！\")\n",
    "                break\n",
    "            else:\n",
    "                print(\"不正解です。新しい問題で再挑戦します。\")\n",
    "                # 不正解の場合、問題がリセットされるので再度selectから始める必要がある\n",
    "                select(problems[0])"
   ]
  },
  {
   "cell_type": "code",
   "execution_count": 90,
   "metadata": {},
   "outputs": [
    {
     "name": "stdout",
     "output_type": "stream",
     "text": [
      "--- Attempt #1 ---\n",
      "242441214432002450120330130512524401550335355314434145043415303132055412231034113005115155215321200123253253\n",
      "0202022131131113111311020311111131113000023123131131101113112000311123111313020320000323230223111111113113113\n"
     ]
    }
   ],
   "source": [
    "attempts = 0\n",
    "attempts += 1\n",
    "print(f\"--- Attempt #{attempts} ---\")\n",
    "select(problems[1])\n",
    "plans = \"\".join([str(random.randint(0,5)) for _ in range(108)])\n",
    "result = \"\".join([str(a) for a in explore([plans])[0]])\n",
    "print(plans)\n",
    "print(result)"
   ]
  },
  {
   "cell_type": "code",
   "execution_count": null,
   "id": "b7f9c224",
   "metadata": {},
   "outputs": [
    {
     "name": "stdout",
     "output_type": "stream",
     "text": [
      "[4, 2, 2, 0, 4, 1, 5, 1, 5, 1, 1, 3, 2, 3, 3, 0, 2, 2, 5, 1, 5, 5, 2, 0, 2, 3, 3, 0, 4, 0, 4, 1, 5, 1, 4, 0, 2, 3, 0, 4, 2, 0, 3, 3, 3, 0, 2, 0, 4, 1, 1, 1, 4, 0, 2, 2, 2, 4, 1, 3, 1, 5, 2, 0, 4, 0, 2, 3, 3, 3, 1, 3, 3, 3, 3, 0, 2, 0, 4, 1, 5, 1, 4, 0, 2, 4, 0, 4, 0, 2, 5, 5, 2, 4, 2, 5, 5, 1, 3, 0, 4, 0, 2, 4, 0, 4, 0, 2, 5]\n",
      "[0, 2, 2, 0, 0, 1, 1, 1, 1, 1, 1, 3, 2, 3, 3, 0, 2, 2, 1, 1, 1, 1, 2, 0, 2, 3, 3, 0, 0, 0, 0, 1, 1, 1, 0, 0, 2, 3, 0, 0, 2, 0, 3, 3, 3, 0, 2, 0, 0, 1, 1, 1, 0, 0, 2, 2, 2, 0, 1, 3, 1, 1, 2, 0, 0, 0, 2, 3, 3, 3, 1, 3, 3, 3, 3, 0, 2, 0, 0, 1, 1, 1, 0, 0, 2, 0, 0, 0, 0, 2, 1, 1, 2, 0, 2, 1, 1, 1, 3, 0, 0, 0, 2, 0, 0, 0, 0, 2, 1]\n"
     ]
    }
   ],
   "source": [
    "assignment = [4,2,2,0,4,1,5,1,5,1,1,3,2,3,3,0,2,2,5,1,5,5,2,0,2,3,3,0,4,0,4,1,5,1,4,0,2,3,0,4,2,0,3,3,3,0,2,0,4,1,1,1,4,0,2,2,2,4,1,3,1,5,2,0,4,0,2,3,3,3,1,3,3,3,3,0,2,0,4,1,5,1,4,0,2,4,0,4,0,2,5,5,2,4,2,5,5,1,3,0,4,0,2,4,0,4,0,2,5,]\n",
    "result = [int(a) for a in \"0220011111132330221111202330000111002300203330200111002220131120002333133330200111002000021120211130002000021\"]\n",
    "print(assignment)\n",
    "print(result)\n",
    "\n",
    "\n",
    "def fil"
   ]
  },
  {
   "cell_type": "code",
   "execution_count": null,
   "metadata": {},
   "outputs": [],
   "source": []
  },
  {
   "cell_type": "code",
   "execution_count": null,
   "id": "9b308e5a",
   "metadata": {},
   "outputs": [],
   "source": [
    "await guess(\n",
    "    rooms\n",
    ")"
   ]
  }
 ],
 "metadata": {
  "kernelspec": {
   "display_name": "icfpc",
   "language": "python",
   "name": "python3"
  },
  "language_info": {
   "codemirror_mode": {
    "name": "ipython",
    "version": 3
   },
   "file_extension": ".py",
   "mimetype": "text/x-python",
   "name": "python",
   "nbconvert_exporter": "python",
   "pygments_lexer": "ipython3",
   "version": "3.11.6"
  }
 },
 "nbformat": 4,
 "nbformat_minor": 5
}
